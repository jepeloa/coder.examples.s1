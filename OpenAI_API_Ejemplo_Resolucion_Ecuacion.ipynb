{
 "cells": [
  {
   "cell_type": "markdown",
   "id": "122fdb94",
   "metadata": {},
   "source": [
    "### Ejemplo 1: Resolviendo una Ecuación Simple"
   ]
  },
  {
   "cell_type": "markdown",
   "id": "f0662011",
   "metadata": {},
   "source": [
    "**Paso 1: Preparación**\n",
    "\n",
    "Prepara tu entorno de desarrollo asegurándote de tener todas las bibliotecas necesarias instaladas y configuradas. Esto incluiría la biblioteca `openai` para Python."
   ]
  },
  {
   "cell_type": "markdown",
   "id": "ea12ca50",
   "metadata": {},
   "source": [
    "**Paso 2: Configuración de la API**\n",
    "\n",
    "Configura tu API de OpenAI con tu clave secreta de API:"
   ]
  },
  {
   "cell_type": "code",
   "execution_count": null,
   "id": "e2d69381",
   "metadata": {},
   "outputs": [],
   "source": [
    "import openai\n",
    "openai.api_key = \"tu_clave_secreta_de_API_aquí\""
   ]
  },
  {
   "cell_type": "markdown",
   "id": "10449e58",
   "metadata": {},
   "source": [
    "**Paso 3: Creando la Solicitud**\n",
    "\n",
    "Crea una solicitud a la API de OpenAI con la instrucción del problema que deseas resolver. En este caso, resolveremos la ecuación x + 10 = 5:"
   ]
  },
  {
   "cell_type": "code",
   "execution_count": null,
   "id": "02d3765a",
   "metadata": {},
   "outputs": [],
   "source": [
    "response = openai.Completion.create(\n",
    "  engine=\"davinci-codex\",\n",
    "  prompt=\"Resuelve la ecuación: x + 10 = 5\",\n",
    "  temperature=0,\n",
    "  max_tokens=10\n",
    ")"
   ]
  },
  {
   "cell_type": "markdown",
   "id": "26fa77f2",
   "metadata": {},
   "source": [
    "**Paso 4: Interpretando la Respuesta**\n",
    "\n",
    "Una vez que recibas la respuesta de la API, puedes extraer y utilizar el resultado:"
   ]
  },
  {
   "cell_type": "code",
   "execution_count": null,
   "id": "3f10b522",
   "metadata": {},
   "outputs": [],
   "source": [
    "result = response.choices[0].text.strip()\n",
    "print(\"La solución es:\", result)"
   ]
  },
  {
   "cell_type": "markdown",
   "id": "94d4783d",
   "metadata": {},
   "source": [
    "**Paso 5: Ejecución**\n",
    "\n",
    "Al ejecutar este script, deberías obtener la solución correcta para la ecuación."
   ]
  },
  {
   "cell_type": "markdown",
   "id": "9c5a3f69",
   "metadata": {},
   "source": [
    "### Resultado Esperado\n",
    "\n",
    "Después de ejecutar el script, deberías ver una salida similar a:\n",
    "\n",
    "```\n",
    "La solución es: x = -5\n",
    "```"
   ]
  }
 ],
 "metadata": {},
 "nbformat": 4,
 "nbformat_minor": 5
}
