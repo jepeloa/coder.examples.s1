{
 "cells": [
  {
   "cell_type": "markdown",
   "id": "d2ced989",
   "metadata": {},
   "source": [
    "### Ejemplo 2: Sumarización de un Texto"
   ]
  },
  {
   "cell_type": "markdown",
   "id": "df23823e",
   "metadata": {},
   "source": [
    "**Paso 1: Preparación**\n",
    "\n",
    "Asegúrate de tener instalada la biblioteca `openai` para Python."
   ]
  },
  {
   "cell_type": "markdown",
   "id": "3f9cd7e8",
   "metadata": {},
   "source": [
    "**Paso 2: Configuración de la API**\n",
    "\n",
    "Configura tu API de OpenAI con tu clave secreta de API:"
   ]
  },
  {
   "cell_type": "code",
   "execution_count": null,
   "id": "a7bddaa9",
   "metadata": {},
   "outputs": [],
   "source": [
    "import openai\n",
    "openai.api_key = \"tu_clave_secreta_de_API_aquí\""
   ]
  },
  {
   "cell_type": "markdown",
   "id": "432e5272",
   "metadata": {},
   "source": [
    "**Paso 3: Creando la Solicitud**\n",
    "\n",
    "Crea una solicitud a la API de OpenAI para sumarizar el siguiente texto:"
   ]
  },
  {
   "cell_type": "markdown",
   "id": "2e8903db",
   "metadata": {},
   "source": [
    "> \"OpenAI es una empresa de inteligencia artificial que busca desarrollar IA amigable y segura para beneficio de toda la humanidad. Entre sus desarrollos más destacados se encuentra GPT-3, un modelo de lenguaje de tercera generación que es capaz de escribir textos con un nivel de coherencia y creatividad sorprendentes.\""
   ]
  },
  {
   "cell_type": "code",
   "execution_count": null,
   "id": "119f53fd",
   "metadata": {},
   "outputs": [],
   "source": [
    "response = openai.Completion.create(\n",
    "  engine=\"davinci-codex\",\n",
    "  prompt=\"Sumariza el siguiente texto: 'OpenAI es una empresa de inteligencia artificial que busca desarrollar IA amigable y segura para beneficio de toda la humanidad. Entre sus desarrollos más destacados se encuentra GPT-3, un modelo de lenguaje de tercera generación que es capaz de escribir textos con un nivel de coherencia y creatividad sorprendentes.'\",\n",
    "  temperature=0.7,\n",
    "  max_tokens=30\n",
    ")"
   ]
  },
  {
   "cell_type": "markdown",
   "id": "7ab498fa",
   "metadata": {},
   "source": [
    "**Paso 4: Interpretando la Respuesta**\n",
    "\n",
    "Una vez que recibas la respuesta de la API, puedes extraer y utilizar el resultado:"
   ]
  },
  {
   "cell_type": "code",
   "execution_count": null,
   "id": "f0814417",
   "metadata": {},
   "outputs": [],
   "source": [
    "result = response.choices[0].text.strip()\n",
    "print(\"La sumarización es:\", result)"
   ]
  },
  {
   "cell_type": "markdown",
   "id": "429c9d10",
   "metadata": {},
   "source": [
    "**Paso 5: Ejecución**\n",
    "\n",
    "Al ejecutar este script, deberías obtener una sumarización del texto proporcionado."
   ]
  }
 ],
 "metadata": {},
 "nbformat": 4,
 "nbformat_minor": 5
}
