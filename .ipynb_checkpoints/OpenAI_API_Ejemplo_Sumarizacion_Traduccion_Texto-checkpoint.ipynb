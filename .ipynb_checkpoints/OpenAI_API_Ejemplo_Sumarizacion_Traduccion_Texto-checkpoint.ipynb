{
 "cells": [
  {
   "cell_type": "markdown",
   "id": "d2ced989",
   "metadata": {},
   "source": [
    "### Ejemplo 2: Sumarización de un Texto"
   ]
  },
  {
   "cell_type": "markdown",
   "id": "df23823e",
   "metadata": {},
   "source": [
    "**Paso 1: Preparación**\n",
    "\n",
    "Asegúrate de tener instalada la biblioteca `openai` para Python."
   ]
  },
  {
   "cell_type": "markdown",
   "id": "3f9cd7e8",
   "metadata": {},
   "source": [
    "**Paso 2: Configuración de la API**\n",
    "\n",
    "Configura tu API de OpenAI con tu clave secreta de API:"
   ]
  },
  {
   "cell_type": "code",
   "execution_count": 1,
   "id": "a7bddaa9",
   "metadata": {},
   "outputs": [],
   "source": [
    "import openai\n",
    "openai.api_key = \"tu api key\""
   ]
  },
  {
   "cell_type": "markdown",
   "id": "432e5272",
   "metadata": {},
   "source": [
    "**Paso 3: Creando la Solicitud**\n",
    "\n",
    "Crea una solicitud a la API de OpenAI para sumarizar el siguiente texto:"
   ]
  },
  {
   "cell_type": "markdown",
   "id": "2e8903db",
   "metadata": {},
   "source": [
    "> \"OpenAI es una empresa de inteligencia artificial que busca desarrollar IA amigable y segura para beneficio de toda la humanidad. Entre sus desarrollos más destacados se encuentra GPT-3, un modelo de lenguaje de tercera generación que es capaz de escribir textos con un nivel de coherencia y creatividad sorprendentes.\""
   ]
  },
  {
   "cell_type": "code",
   "execution_count": 8,
   "id": "119f53fd",
   "metadata": {},
   "outputs": [
    {
     "name": "stdout",
     "output_type": "stream",
     "text": [
      "assistant: OpenAI es una compañía de IA que se enfoca en desarrollar tecnología segura y amigable, destacando entre sus invenciones GPT-3, un avanzado modelo de lenguaje generativo.\n"
     ]
    }
   ],
   "source": [
    "response = openai.ChatCompletion.create(\n",
    "    model='gpt-4',\n",
    "    max_tokens=50,\n",
    "    messages=[\n",
    "        {\"role\": \"system\", \"content\": \"Eres un asistente que realiza resumenes de texto\"},\n",
    "        {\"role\": \"user\", \"content\": \"Sumariza el siguiente texto en no mas de 30 palabras: 'OpenAI es una empresa de inteligencia artificial que busca desarrollar IA amigable y segura para beneficio de toda la humanidad. Entre sus desarrollos más destacados se encuentra GPT-3, un modelo de lenguaje de tercera generación que es capaz de escribir textos con un nivel de coherencia y creatividad sorprendentes.\"},\n",
    "    ])\n",
    " \n",
    "message = response.choices[0]['message']\n",
    "print(\"{}: {}\".format(message['role'], message['content']))"
   ]
  },
  {
   "cell_type": "markdown",
   "id": "7ab498fa",
   "metadata": {},
   "source": [
    "**Paso 4: Interpretando la Respuesta**\n",
    "\n",
    "Una vez que recibas la respuesta de la API, puedes extraer y utilizar el resultado:"
   ]
  },
  {
   "cell_type": "code",
   "execution_count": 4,
   "id": "f0814417",
   "metadata": {},
   "outputs": [
    {
     "name": "stdout",
     "output_type": "stream",
     "text": [
      "La sumarización es: ¿Por qué existe la IA?\n",
      "\n",
      "¿Qué es un modelo de aprendizaje?\n"
     ]
    }
   ],
   "source": [
    "result = response.choices[0].text.strip()\n",
    "print(\"La sumarización es:\", result)"
   ]
  },
  {
   "cell_type": "markdown",
   "id": "429c9d10",
   "metadata": {},
   "source": [
    "**Paso 5: Ejecución**\n",
    "\n",
    "Al ejecutar este script, deberías obtener una sumarización del texto proporcionado."
   ]
  }
 ],
 "metadata": {
  "kernelspec": {
   "display_name": "Python 3 (ipykernel)",
   "language": "python",
   "name": "python3"
  },
  "language_info": {
   "codemirror_mode": {
    "name": "ipython",
    "version": 3
   },
   "file_extension": ".py",
   "mimetype": "text/x-python",
   "name": "python",
   "nbconvert_exporter": "python",
   "pygments_lexer": "ipython3",
   "version": "3.10.12"
  }
 },
 "nbformat": 4,
 "nbformat_minor": 5
}
